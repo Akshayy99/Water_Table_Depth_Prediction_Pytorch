{
 "cells": [
  {
   "cell_type": "code",
   "execution_count": 3,
   "metadata": {},
   "outputs": [],
   "source": [
    "import torch\n",
    "from torch import nn\n",
    "import pandas as pd\n",
    "from sklearn.preprocessing import StandardScaler\n",
    "from sklearn.metrics import r2_score, mean_squared_error\n",
    "import matplotlib.pyplot as plt\n",
    "import numpy as np\n",
    "from torch.autograd import Variable"
   ]
  },
  {
   "cell_type": "code",
   "execution_count": 4,
   "metadata": {},
   "outputs": [],
   "source": [
    "class RNN(nn.Module):\n",
    "    def __init__(self, input_size, hidden_size, num_layers, class_size, dropout=0.5, rnn_type='lstm'):\n",
    "        super(RNN, self).__init__()\n",
    "\n",
    "        self.input_size = input_size\n",
    "        self.hidden_size = hidden_size\n",
    "        self.class_size = class_size\n",
    "        self.num_layers = num_layers\n",
    "        self.rnn_type = rnn_type\n",
    "\n",
    "        if self.rnn_type == 'lstm':\n",
    "            self.rnn = nn.LSTM(\n",
    "                input_size=self.input_size,\n",
    "                hidden_size=self.hidden_size,     # rnn hidden unit\n",
    "                num_layers=self.num_layers,       # number of rnn layer\n",
    "                batch_first=True,   # input & output will has batch size as 1s dimension. e.g. (batch, time_step, input_size)\n",
    "            )\n",
    "        elif self.rnn_type == 'rnn':\n",
    "            self.rnn = nn.RNN(\n",
    "                input_size=self.input_size,\n",
    "                hidden_size=self.hidden_size,\n",
    "                num_layers=self.num_layers,\n",
    "                batch_first=True,\n",
    "            )\n",
    "        elif self.rnn_type == 'gru':\n",
    "            self.rnn = nn.GRU(\n",
    "                input_size=self.input_size,\n",
    "                hidden_size=self.hidden_size,\n",
    "                num_layers=self.num_layers,\n",
    "                batch_first=True,\n",
    "            )\n",
    "        else:\n",
    "            raise NotImplementedError\n",
    "\n",
    "        self.dropout = nn.Dropout(dropout)\n",
    "        self.out = nn.Linear(self.hidden_size, self.class_size) # FC layer in our paper\n",
    "\n",
    "    def forward(self, x):\n",
    "        h0 = torch.zeros(self.num_layers, x.size(0), self.hidden_size)\n",
    "        if self.rnn_type == 'lstm':\n",
    "            c0 = torch.zeros(self.num_layers, x.size(0), self.hidden_size)\n",
    "            r_out, _ = self.rnn(x, (h0, c0))\n",
    "        else:\n",
    "            r_out, _ = self.rnn(x, h0)\n",
    "\n",
    "        outs = []    # save all predictions\n",
    "        for time_step in range(r_out.size(1)):    # calculate output for each time step\n",
    "            outs.append(self.out(self.dropout((r_out[:, time_step, :]))))\n",
    "        return torch.stack(outs, dim=1)"
   ]
  },
  {
   "cell_type": "code",
   "execution_count": 5,
   "metadata": {},
   "outputs": [],
   "source": [
    "ss_X_dep = StandardScaler()\n",
    "ss_y_dep = StandardScaler()\n",
    "\n",
    "def rmse(y1, y2):\n",
    "    return np.sqrt(mean_squared_error(y1, y2))"
   ]
  },
  {
   "cell_type": "code",
   "execution_count": 6,
   "metadata": {},
   "outputs": [],
   "source": [
    "data = pd.read_csv('data/demo.csv')\n",
    "\n",
    "Inputs = data.drop('Year', axis=1).drop('Depth', axis=1)\n",
    "Outputs = data['Depth']"
   ]
  },
  {
   "cell_type": "code",
   "execution_count": 7,
   "metadata": {},
   "outputs": [
    {
     "name": "stderr",
     "output_type": "stream",
     "text": [
      "/home/akshay/anaconda3/lib/python3.7/site-packages/ipykernel_launcher.py:1: FutureWarning: Method .as_matrix will be removed in a future version. Use .values instead.\n",
      "  \"\"\"Entry point for launching an IPython kernel.\n",
      "/home/akshay/anaconda3/lib/python3.7/site-packages/ipykernel_launcher.py:2: FutureWarning: Method .as_matrix will be removed in a future version. Use .values instead.\n",
      "  \n"
     ]
    }
   ],
   "source": [
    "Inputs = Inputs.as_matrix()\n",
    "Outputs = Outputs.as_matrix().reshape(-1, 1)"
   ]
  },
  {
   "cell_type": "code",
   "execution_count": 8,
   "metadata": {},
   "outputs": [
    {
     "name": "stdout",
     "output_type": "stream",
     "text": [
      "X_train_dep shape (144, 5)\n",
      "y_train_dep shape (144, 1)\n",
      "X_test_dep shape (24, 5)\n"
     ]
    }
   ],
   "source": [
    "# First 12 years of data\n",
    "X_train_dep = Inputs[0:144]\n",
    "y_train_dep = Outputs[0:144]\n",
    "\n",
    "# Last 2 years of data\n",
    "X_test_dep = Inputs[144:]\n",
    "\n",
    "print(\"X_train_dep shape\", X_train_dep.shape)\n",
    "print(\"y_train_dep shape\", y_train_dep.shape)\n",
    "print(\"X_test_dep shape\", X_test_dep.shape)"
   ]
  },
  {
   "cell_type": "code",
   "execution_count": 10,
   "metadata": {},
   "outputs": [],
   "source": [
    "X = np.concatenate([X_train_dep, X_test_dep], axis=0)\n",
    "\n",
    "# Standardization\n",
    "X = ss_X_dep.fit_transform(X)\n",
    "\n",
    "# First 12 years of data\n",
    "X_train_dep_std = X[0:144]\n",
    "y_train_dep_std = ss_y_dep.fit_transform(y_train_dep)"
   ]
  },
  {
   "cell_type": "code",
   "execution_count": 11,
   "metadata": {},
   "outputs": [],
   "source": [
    "# All 14 years of data\n",
    "X_test_dep_std  = X\n",
    "X_train_dep_std = np.expand_dims(X_train_dep_std, axis=0)\n",
    "y_train_dep_std = np.expand_dims(y_train_dep_std, axis=0)\n",
    "X_test_dep_std = np.expand_dims(X_test_dep_std, axis=0)"
   ]
  },
  {
   "cell_type": "code",
   "execution_count": 12,
   "metadata": {},
   "outputs": [],
   "source": [
    "# Transfer to Pytorch Variable\n",
    "X_train_dep_std = Variable(torch.from_numpy(X_train_dep_std).float())\n",
    "y_train_dep_std = Variable(torch.from_numpy(y_train_dep_std).float())\n",
    "X_test_dep_std = Variable(torch.from_numpy(X_test_dep_std).float())"
   ]
  },
  {
   "cell_type": "code",
   "execution_count": 13,
   "metadata": {},
   "outputs": [],
   "source": [
    "# Define rnn model\n",
    "model = RNN(input_size=5, hidden_size=40, num_layers=1, class_size=1, dropout=0.5, rnn_type='lstm')\n",
    "# Define optimization function\n",
    "optimizer = torch.optim.Adam(model.parameters(), lr=1e-4)   # optimize all rnn parameters\n",
    "# Define loss function\n",
    "loss_func = nn.MSELoss()"
   ]
  },
  {
   "cell_type": "code",
   "execution_count": 14,
   "metadata": {},
   "outputs": [
    {
     "name": "stdout",
     "output_type": "stream",
     "text": [
      "iteration: 0, loss: 0.9967653751373291\n",
      "iteration: 100, loss: 0.9369235634803772\n",
      "iteration: 200, loss: 0.837751030921936\n",
      "iteration: 300, loss: 0.7274081707000732\n",
      "iteration: 400, loss: 0.6605933308601379\n",
      "iteration: 500, loss: 0.5598281621932983\n",
      "iteration: 600, loss: 0.5551613569259644\n",
      "iteration: 700, loss: 0.5056695342063904\n",
      "iteration: 800, loss: 0.46955549716949463\n",
      "iteration: 900, loss: 0.43161651492118835\n",
      "iteration: 1000, loss: 0.3978692889213562\n",
      "iteration: 1100, loss: 0.3831895589828491\n",
      "iteration: 1200, loss: 0.3572118282318115\n",
      "iteration: 1300, loss: 0.3429827392101288\n",
      "iteration: 1400, loss: 0.3552069664001465\n",
      "iteration: 1500, loss: 0.30689603090286255\n",
      "iteration: 1600, loss: 0.3141506016254425\n",
      "iteration: 1700, loss: 0.3197340667247772\n",
      "iteration: 1800, loss: 0.29536595940589905\n",
      "iteration: 1900, loss: 0.26679959893226624\n",
      "iteration: 2000, loss: 0.23972143232822418\n",
      "iteration: 2100, loss: 0.23563718795776367\n",
      "iteration: 2200, loss: 0.24989578127861023\n",
      "iteration: 2300, loss: 0.23858854174613953\n",
      "iteration: 2400, loss: 0.23961156606674194\n",
      "iteration: 2500, loss: 0.21644453704357147\n",
      "iteration: 2600, loss: 0.2281254678964615\n",
      "iteration: 2700, loss: 0.2151148021221161\n",
      "iteration: 2800, loss: 0.21475756168365479\n",
      "iteration: 2900, loss: 0.19921356439590454\n",
      "iteration: 3000, loss: 0.1863691210746765\n",
      "iteration: 3100, loss: 0.1786695271730423\n",
      "iteration: 3200, loss: 0.1829657107591629\n",
      "iteration: 3300, loss: 0.1901712268590927\n",
      "iteration: 3400, loss: 0.15471379458904266\n",
      "iteration: 3500, loss: 0.1744946837425232\n",
      "iteration: 3600, loss: 0.1523330807685852\n",
      "iteration: 3700, loss: 0.14471140503883362\n",
      "iteration: 3800, loss: 0.16984115540981293\n",
      "iteration: 3900, loss: 0.1738395392894745\n",
      "iteration: 4000, loss: 0.14935511350631714\n",
      "iteration: 4100, loss: 0.1523188054561615\n",
      "iteration: 4200, loss: 0.1454150229692459\n",
      "iteration: 4300, loss: 0.1013752892613411\n",
      "iteration: 4400, loss: 0.16527727246284485\n",
      "iteration: 4500, loss: 0.13357466459274292\n",
      "iteration: 4600, loss: 0.13192161917686462\n",
      "iteration: 4700, loss: 0.1437395066022873\n",
      "iteration: 4800, loss: 0.1159956157207489\n",
      "iteration: 4900, loss: 0.11605720967054367\n",
      "iteration: 5000, loss: 0.11355488747358322\n",
      "iteration: 5100, loss: 0.1069410890340805\n",
      "iteration: 5200, loss: 0.11772779375314713\n",
      "iteration: 5300, loss: 0.1126442477107048\n",
      "iteration: 5400, loss: 0.13587091863155365\n",
      "iteration: 5500, loss: 0.118532694876194\n",
      "iteration: 5600, loss: 0.09471483528614044\n",
      "iteration: 5700, loss: 0.12536749243736267\n",
      "iteration: 5800, loss: 0.12499504536390305\n",
      "iteration: 5900, loss: 0.11532667279243469\n",
      "iteration: 6000, loss: 0.11712031811475754\n",
      "iteration: 6100, loss: 0.11592397093772888\n",
      "iteration: 6200, loss: 0.10645458847284317\n",
      "iteration: 6300, loss: 0.09617346525192261\n",
      "iteration: 6400, loss: 0.12529461085796356\n",
      "iteration: 6500, loss: 0.10666127502918243\n",
      "iteration: 6600, loss: 0.09027892351150513\n",
      "iteration: 6700, loss: 0.10472837835550308\n",
      "iteration: 6800, loss: 0.09952488541603088\n",
      "iteration: 6900, loss: 0.10372157394886017\n",
      "iteration: 7000, loss: 0.09949574619531631\n",
      "iteration: 7100, loss: 0.09574402123689651\n",
      "iteration: 7200, loss: 0.10298425704240799\n",
      "iteration: 7300, loss: 0.0851207822561264\n",
      "iteration: 7400, loss: 0.09627750515937805\n",
      "iteration: 7500, loss: 0.08694109320640564\n",
      "iteration: 7600, loss: 0.09076140075922012\n",
      "iteration: 7700, loss: 0.09050826728343964\n",
      "iteration: 7800, loss: 0.08552803099155426\n",
      "iteration: 7900, loss: 0.07874162495136261\n",
      "iteration: 8000, loss: 0.09085673093795776\n",
      "iteration: 8100, loss: 0.1048329696059227\n",
      "iteration: 8200, loss: 0.07839470356702805\n",
      "iteration: 8300, loss: 0.07995210587978363\n",
      "iteration: 8400, loss: 0.08043140918016434\n",
      "iteration: 8500, loss: 0.07359547913074493\n",
      "iteration: 8600, loss: 0.0946531593799591\n",
      "iteration: 8700, loss: 0.08412966877222061\n",
      "iteration: 8800, loss: 0.08062595129013062\n",
      "iteration: 8900, loss: 0.06784921139478683\n",
      "iteration: 9000, loss: 0.06716020405292511\n",
      "iteration: 9100, loss: 0.07139717042446136\n",
      "iteration: 9200, loss: 0.08346781134605408\n",
      "iteration: 9300, loss: 0.0764254629611969\n",
      "iteration: 9400, loss: 0.07544387131929398\n",
      "iteration: 9500, loss: 0.06827665865421295\n",
      "iteration: 9600, loss: 0.08010353147983551\n",
      "iteration: 9700, loss: 0.05815078690648079\n",
      "iteration: 9800, loss: 0.08391629159450531\n",
      "iteration: 9900, loss: 0.07145863026380539\n",
      "iteration: 10000, loss: 0.07384701818227768\n",
      "iteration: 10100, loss: 0.0657581016421318\n",
      "iteration: 10200, loss: 0.06965181231498718\n",
      "iteration: 10300, loss: 0.07083422690629959\n",
      "iteration: 10400, loss: 0.07439831644296646\n",
      "iteration: 10500, loss: 0.06683072447776794\n",
      "iteration: 10600, loss: 0.05043616145849228\n",
      "iteration: 10700, loss: 0.06607769429683685\n",
      "iteration: 10800, loss: 0.07094934582710266\n",
      "iteration: 10900, loss: 0.07688996195793152\n",
      "iteration: 11000, loss: 0.06289585679769516\n",
      "iteration: 11100, loss: 0.07314587384462357\n",
      "iteration: 11200, loss: 0.06779853254556656\n",
      "iteration: 11300, loss: 0.05725532025098801\n",
      "iteration: 11400, loss: 0.0728367269039154\n",
      "iteration: 11500, loss: 0.05869714543223381\n",
      "iteration: 11600, loss: 0.06038292869925499\n",
      "iteration: 11700, loss: 0.05430322140455246\n",
      "iteration: 11800, loss: 0.05766642093658447\n",
      "iteration: 11900, loss: 0.0666220560669899\n",
      "iteration: 12000, loss: 0.06848911195993423\n",
      "iteration: 12100, loss: 0.04643244668841362\n",
      "iteration: 12200, loss: 0.04743831604719162\n",
      "iteration: 12300, loss: 0.05772978812456131\n",
      "iteration: 12400, loss: 0.06632125377655029\n",
      "iteration: 12500, loss: 0.05008562281727791\n",
      "iteration: 12600, loss: 0.05143393576145172\n",
      "iteration: 12700, loss: 0.06955558806657791\n",
      "iteration: 12800, loss: 0.06370075792074203\n",
      "iteration: 12900, loss: 0.05389580875635147\n",
      "iteration: 13000, loss: 0.05461902543902397\n",
      "iteration: 13100, loss: 0.05138541758060455\n",
      "iteration: 13200, loss: 0.054254211485385895\n",
      "iteration: 13300, loss: 0.045232389122247696\n",
      "iteration: 13400, loss: 0.04923677071928978\n",
      "iteration: 13500, loss: 0.06105771288275719\n",
      "iteration: 13600, loss: 0.054733987897634506\n",
      "iteration: 13700, loss: 0.06283850222826004\n",
      "iteration: 13800, loss: 0.057098403573036194\n",
      "iteration: 13900, loss: 0.05720917508006096\n",
      "iteration: 14000, loss: 0.056606974452733994\n",
      "iteration: 14100, loss: 0.061854250729084015\n",
      "iteration: 14200, loss: 0.04627411440014839\n",
      "iteration: 14300, loss: 0.057266395539045334\n",
      "iteration: 14400, loss: 0.06649354845285416\n",
      "iteration: 14500, loss: 0.06192358210682869\n",
      "iteration: 14600, loss: 0.05453066900372505\n",
      "iteration: 14700, loss: 0.04456967115402222\n",
      "iteration: 14800, loss: 0.05509893596172333\n",
      "iteration: 14900, loss: 0.051702577620744705\n",
      "iteration: 15000, loss: 0.04691380634903908\n",
      "iteration: 15100, loss: 0.06646016985177994\n",
      "iteration: 15200, loss: 0.044641319662332535\n",
      "iteration: 15300, loss: 0.04666973650455475\n",
      "iteration: 15400, loss: 0.057876188308000565\n",
      "iteration: 15500, loss: 0.05110215023159981\n",
      "iteration: 15600, loss: 0.049904607236385345\n",
      "iteration: 15700, loss: 0.0433264821767807\n",
      "iteration: 15800, loss: 0.05572880059480667\n",
      "iteration: 15900, loss: 0.04819265380501747\n",
      "iteration: 16000, loss: 0.05055205151438713\n",
      "iteration: 16100, loss: 0.0654773861169815\n",
      "iteration: 16200, loss: 0.049406006932258606\n",
      "iteration: 16300, loss: 0.06481397897005081\n",
      "iteration: 16400, loss: 0.05625230073928833\n",
      "iteration: 16500, loss: 0.04964754730463028\n",
      "iteration: 16600, loss: 0.05337357521057129\n",
      "iteration: 16700, loss: 0.052397940307855606\n",
      "iteration: 16800, loss: 0.038655977696180344\n",
      "iteration: 16900, loss: 0.0492238886654377\n",
      "iteration: 17000, loss: 0.07253920286893845\n",
      "iteration: 17100, loss: 0.046652499586343765\n",
      "iteration: 17200, loss: 0.04547780752182007\n",
      "iteration: 17300, loss: 0.05712674558162689\n",
      "iteration: 17400, loss: 0.05400599539279938\n",
      "iteration: 17500, loss: 0.04388834536075592\n",
      "iteration: 17600, loss: 0.05367495119571686\n",
      "iteration: 17700, loss: 0.05646738037467003\n",
      "iteration: 17800, loss: 0.04726426303386688\n",
      "iteration: 17900, loss: 0.04288593679666519\n",
      "iteration: 18000, loss: 0.04658650606870651\n",
      "iteration: 18100, loss: 0.049361392855644226\n",
      "iteration: 18200, loss: 0.04642122611403465\n",
      "iteration: 18300, loss: 0.06010879948735237\n",
      "iteration: 18400, loss: 0.055355045944452286\n",
      "iteration: 18500, loss: 0.05204959958791733\n",
      "iteration: 18600, loss: 0.05625450611114502\n",
      "iteration: 18700, loss: 0.0525936633348465\n",
      "iteration: 18800, loss: 0.061176009476184845\n",
      "iteration: 18900, loss: 0.06896049529314041\n"
     ]
    },
    {
     "name": "stdout",
     "output_type": "stream",
     "text": [
      "iteration: 19000, loss: 0.05233219265937805\n",
      "iteration: 19100, loss: 0.05413079261779785\n",
      "iteration: 19200, loss: 0.05548214167356491\n",
      "iteration: 19300, loss: 0.04707759991288185\n",
      "iteration: 19400, loss: 0.04706839472055435\n",
      "iteration: 19500, loss: 0.0480974055826664\n",
      "iteration: 19600, loss: 0.06374835222959518\n",
      "iteration: 19700, loss: 0.04778037220239639\n",
      "iteration: 19800, loss: 0.04075871780514717\n",
      "iteration: 19900, loss: 0.04632258415222168\n",
      "iteration: 20000, loss: 0.045240189880132675\n"
     ]
    }
   ],
   "source": [
    "# Start training\n",
    "for iter in range(20000+1):\n",
    "    model.train()\n",
    "    prediction = model(X_train_dep_std)\n",
    "    loss = loss_func(prediction, y_train_dep_std)\n",
    "    optimizer.zero_grad()  # clear gradients for this training step\n",
    "    loss.backward()        # back propagation, compute gradients\n",
    "    optimizer.step()\n",
    "    if iter % 100 == 0:\n",
    "        print(\"iteration: %s, loss: %s\" % (iter, loss.item()))"
   ]
  },
  {
   "cell_type": "code",
   "execution_count": 16,
   "metadata": {},
   "outputs": [
    {
     "name": "stdout",
     "output_type": "stream",
     "text": [
      "Saved as checkpoints/LSTM_FC.pth\n"
     ]
    },
    {
     "name": "stderr",
     "output_type": "stream",
     "text": [
      "/home/akshay/anaconda3/lib/python3.7/site-packages/torch/serialization.py:402: UserWarning: Couldn't retrieve source code for container of type RNN. It won't be checked for correctness upon loading.\n",
      "  \"type \" + obj.__name__ + \". It won't be checked \"\n"
     ]
    }
   ],
   "source": [
    "# Save model\n",
    "save_filename = 'checkpoints/LSTM_FC.pth'\n",
    "torch.save(model, save_filename)\n",
    "print('Saved as %s' % save_filename)"
   ]
  },
  {
   "cell_type": "code",
   "execution_count": 17,
   "metadata": {},
   "outputs": [
    {
     "data": {
      "text/plain": [
       "RNN(\n",
       "  (rnn): LSTM(5, 40, batch_first=True)\n",
       "  (dropout): Dropout(p=0.5, inplace=False)\n",
       "  (out): Linear(in_features=40, out_features=1, bias=True)\n",
       ")"
      ]
     },
     "execution_count": 17,
     "metadata": {},
     "output_type": "execute_result"
    }
   ],
   "source": [
    "# Start evaluating model\n",
    "model.eval()"
   ]
  },
  {
   "cell_type": "code",
   "execution_count": 18,
   "metadata": {},
   "outputs": [
    {
     "name": "stdout",
     "output_type": "stream",
     "text": [
      "the value of R-squared of Evaporation is  0.58388605520776\n",
      "the value of Root mean squared error of Evaporation is  1.0610613888141551\n"
     ]
    }
   ],
   "source": [
    "y_pred_dep_ = model(X_test_dep_std).detach().numpy()\n",
    "y_pred_dep = ss_y_dep.inverse_transform(y_pred_dep_[0, 144:])\n",
    "\n",
    "print('the value of R-squared of Evaporation is ', r2_score(Outputs[144:], y_pred_dep))\n",
    "print('the value of Root mean squared error of Evaporation is ', rmse(Outputs[144:], y_pred_dep))"
   ]
  },
  {
   "cell_type": "code",
   "execution_count": 19,
   "metadata": {},
   "outputs": [
    {
     "data": {
      "image/png": "[encoded data removed]",
      "text/plain": [
       "<Figure size 432x288 with 1 Axes>"
      ]
     },
     "metadata": {
      "needs_background": "light"
     },
     "output_type": "display_data"
    }
   ],
   "source": [
    "f, ax1 = plt.subplots(1, 1, sharex=True, figsize=(6, 4))\n",
    "\n",
    "ax1.plot(Outputs[144:], color=\"blue\", linestyle=\"-\", linewidth=1.5, label=\"Measurements\")\n",
    "ax1.plot(y_pred_dep, color=\"green\", linestyle=\"--\", linewidth=1.5, label=\"Proposed model\")\n",
    "\n",
    "plt.legend(loc='upper right')\n",
    "plt.xticks(fontsize=8,fontweight='normal')\n",
    "plt.yticks(fontsize=8,fontweight='normal')\n",
    "plt.xlabel('Time (Month)', fontsize=10)\n",
    "plt.ylabel('Water table depth (m)', fontsize=10)\n",
    "plt.xlim(0, 25)\n",
    "plt.savefig('results.png', format='png')\n",
    "plt.show()"
   ]
  },
  {
   "cell_type": "code",
   "execution_count": 20,
   "metadata": {},
   "outputs": [
    {
     "name": "stdout",
     "output_type": "stream",
     "text": [
      "the value of R-squared of Evaporation is  0.58388605520776\n",
      "the value of Root mean squared error of Evaporation is  1.0610613888141551\n"
     ]
    }
   ],
   "source": [
    "##### Loading Model #####\n",
    "model = torch.load('checkpoints/LSTM_FC.pth')\n",
    "model.eval()\n",
    "y_pred_dep_ = model(X_test_dep_std).detach().numpy()\n",
    "y_pred_dep = ss_y_dep.inverse_transform(y_pred_dep_[0, 144:])\n",
    "\n",
    "print('the value of R-squared of Evaporation is ', r2_score(Outputs[144:], y_pred_dep))\n",
    "print('the value of Root mean squared error of Evaporation is ', rmse(Outputs[144:], y_pred_dep))"
   ]
  },
  {
   "cell_type": "code",
   "execution_count": null,
   "metadata": {},
   "outputs": [],
   "source": []
  }
 ],
 "metadata": {
  "kernelspec": {
   "display_name": "Python 3",
   "language": "python",
   "name": "python3"
  },
  "language_info": {
   "codemirror_mode": {
    "name": "ipython",
    "version": 3
   },
   "file_extension": ".py",
   "mimetype": "text/x-python",
   "name": "python",
   "nbconvert_exporter": "python",
   "pygments_lexer": "ipython3",
   "version": "3.7.4"
  }
 },
 "nbformat": 4,
 "nbformat_minor": 2
}
